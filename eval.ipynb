{
 "cells": [
  {
   "cell_type": "code",
   "execution_count": 1,
   "metadata": {},
   "outputs": [
    {
     "name": "stderr",
     "output_type": "stream",
     "text": [
      "Using TensorFlow backend.\n"
     ]
    }
   ],
   "source": [
    "import pandas as pd\n",
    "import numpy as np\n",
    "from scipy.stats import linregress\n",
    "import matplotlib.pyplot as plt\n",
    "%matplotlib inline\n",
    "\n",
    "from keras.models import Sequential\n",
    "from keras.layers.core import Dense, Activation\n",
    "from keras.optimizers import SGD\n",
    "from keras.utils import np_utils\n",
    "from keras.layers.convolutional import Convolution2D, MaxPooling2D\n",
    "from keras.constraints import maxnorm\n",
    "from keras.layers import Dense, Dropout, Flatten\n",
    "\n",
    "import warnings\n",
    "warnings.filterwarnings(\"ignore\")\n",
    "import shelve"
   ]
  },
  {
   "cell_type": "markdown",
   "metadata": {},
   "source": [
    "# Read data"
   ]
  },
  {
   "cell_type": "code",
   "execution_count": 2,
   "metadata": {
    "collapsed": true
   },
   "outputs": [],
   "source": [
    "df = pd.read_csv(\"my_train_thin_thin.csv\")\n",
    "y = df[\"is_churn\"]\n",
    "df.drop([\"is_churn\",\"msno\"],axis=1,inplace=True)"
   ]
  },
  {
   "cell_type": "code",
   "execution_count": 3,
   "metadata": {},
   "outputs": [],
   "source": [
    "df[\"col_diff_last\"] = df[\"date_count_201702\"]-df[\"date_count_201701\"]\n",
    "df[\"col_diff_second_last\"] = df[\"date_count_201701\"]-df[\"date_count_201612\"]\n",
    "df[\"date_diff\"] = 20170301-df[\"max_membership_expire_date\"]"
   ]
  },
  {
   "cell_type": "code",
   "execution_count": 4,
   "metadata": {
    "collapsed": true
   },
   "outputs": [],
   "source": [
    "df = df[['max_membership_expire_date',\n",
    " 'date_diff',\n",
    " 'is_auto_renew',\n",
    " 'last_is_cancel',\n",
    " 'last_is_auto_renew',\n",
    " 'payment_plan_days',\n",
    " 'trans_count',\n",
    " 'is_cancel',\n",
    " 'col_diff1',\n",
    " 'date_count_201703',\n",
    " 'total_secs_mean_201703',\n",
    " 'num_unq_mean_201703',\n",
    " 'slope',\n",
    " 'registered_via_7',\n",
    " 'num_100_pct_201703',\n",
    " 'total_secs_mean_201702',\n",
    " 'num_25_pct_201703',\n",
    " 'num_50_pct_201703',\n",
    " 'num_985_pct_201703',\n",
    " 'num_75_pct_201703',\n",
    " 'num_unq_mean_201609',\n",
    " 'num_unq_mean_201702',\n",
    " 'num_985_pct_201702',\n",
    " 'num_unq_mean_201701',\n",
    " 'num_25_pct_201702',\n",
    " 'total_secs_mean_201701',\n",
    " 'col_diff_last',\n",
    " 'num_50_pct_201702',\n",
    " 'num_100_pct_201702',\n",
    " 'num_75_pct_201702',\n",
    " 'num_25_pct_201701',\n",
    " 'date_count_201702',\n",
    " 'col_diff２',\n",
    " 'total_secs_mean_201612',\n",
    " 'num_50_pct_201701',\n",
    " 'num_75_pct_201701',\n",
    " 'num_985_pct_201701',\n",
    " 'date_count_201701',\n",
    " 'num_100_pct_201701',\n",
    " 'num_unq_mean_201612',\n",
    " 'num_25_pct_201612',\n",
    " 'num_50_pct_201612',\n",
    " 'num_unq_mean_201611',\n",
    " 'num_25_pct_201611',\n",
    " 'col_diff_second_last',\n",
    " 'total_secs_mean_201610',\n",
    " 'num_100_pct_201609',\n",
    " 'num_985_pct_201612',\n",
    " 'num_unq_mean_201610',\n",
    " 'total_secs_mean_201611']]"
   ]
  },
  {
   "cell_type": "markdown",
   "metadata": {
    "collapsed": true
   },
   "source": [
    "# train test split"
   ]
  },
  {
   "cell_type": "code",
   "execution_count": 5,
   "metadata": {
    "collapsed": true
   },
   "outputs": [],
   "source": [
    "from sklearn.model_selection import train_test_split\n",
    "X_train, X_test, y_train, y_test = train_test_split(df, y, random_state=1)"
   ]
  },
  {
   "cell_type": "code",
   "execution_count": null,
   "metadata": {
    "collapsed": true
   },
   "outputs": [],
   "source": [
    "y_train = np_utils.to_categorical(y_train, 2)\n",
    "y_test = np_utils.to_categorical(y_test, 2)"
   ]
  },
  {
   "cell_type": "markdown",
   "metadata": {},
   "source": [
    "# preprocess"
   ]
  },
  {
   "cell_type": "code",
   "execution_count": 6,
   "metadata": {
    "collapsed": true
   },
   "outputs": [],
   "source": [
    "def cap_it(d_cap,X):\n",
    "    for k in d_cap.keys():\n",
    "        cap = d_cap[k]\n",
    "        X[k][X[k]>cap] = cap\n",
    "    return X"
   ]
  },
  {
   "cell_type": "code",
   "execution_count": 6,
   "metadata": {
    "collapsed": true
   },
   "outputs": [],
   "source": [
    "# cap\n",
    "d_cap ={}\n",
    "for col in X_train.columns.tolist():\n",
    "    if col[:5] == \"total\":\n",
    "        cap = np.percentile(X_train[col], 70)\n",
    "        X_train[col][X_train[col]>cap] = cap\n",
    "        d_cap[col] = cap\n",
    "        \n",
    "def cap_it(d_cap,X):\n",
    "    for k in d_cap.keys():\n",
    "        cap = d_cap[k]\n",
    "        X[k][X[k]>cap] = cap\n",
    "    return X\n",
    "\n",
    "X_train = X_train.values\n",
    "X_test = cap_it(d_cap,X_test)\n",
    "X_test = X_test.values"
   ]
  },
  {
   "cell_type": "code",
   "execution_count": 6,
   "metadata": {
    "collapsed": true
   },
   "outputs": [],
   "source": [
    "# min-max-scaler\n",
    "from sklearn.preprocessing import MinMaxScaler\n",
    "scaler = MinMaxScaler()\n",
    "scaler.fit(X_train)\n",
    "X_train = scaler.transform(X_train)\n",
    "X_test = scaler.transform(X_test)"
   ]
  },
  {
   "cell_type": "markdown",
   "metadata": {},
   "source": [
    "# XGB Model"
   ]
  },
  {
   "cell_type": "code",
   "execution_count": null,
   "metadata": {
    "collapsed": true
   },
   "outputs": [],
   "source": [
    "from xgboost import XGBClassifier"
   ]
  },
  {
   "cell_type": "code",
   "execution_count": null,
   "metadata": {
    "collapsed": true
   },
   "outputs": [],
   "source": [
    "help(XGBClassifier)"
   ]
  },
  {
   "cell_type": "code",
   "execution_count": null,
   "metadata": {
    "collapsed": true
   },
   "outputs": [],
   "source": [
    "# param_dist = {'objective':'binary:logistic'} 0.12251\n",
    "# param_dist = {'objective':'binary:logistic',\"max_depth\":4,\"n_estimators\":500} 0.12957\n",
    "# param_dist = {'objective':'binary:logistic',\"max_depth\":5,\"n_estimators\":100,\"min_child_weight\":1.5} 0.12426\n",
    "# param_dist = {'objective':'binary:logistic',\"max_depth\":5,\"n_estimators\":100,\"min_child_weight\":2} 0.12385"
   ]
  },
  {
   "cell_type": "code",
   "execution_count": 7,
   "metadata": {},
   "outputs": [
    {
     "name": "stderr",
     "output_type": "stream",
     "text": [
      "/usr/local/lib/python3.5/dist-packages/sklearn/cross_validation.py:41: DeprecationWarning: This module was deprecated in version 0.18 in favor of the model_selection module into which all the refactored classes and functions are moved. Also note that the interface of the new CV iterators are different from that of this module. This module will be removed in 0.20.\n",
      "  \"This module will be removed in 0.20.\", DeprecationWarning)\n"
     ]
    },
    {
     "name": "stdout",
     "output_type": "stream",
     "text": [
      "[0]\tvalidation_0-logloss:0.613504\tvalidation_1-logloss:0.613437\n",
      "[1]\tvalidation_0-logloss:0.548368\tvalidation_1-logloss:0.548236\n",
      "[2]\tvalidation_0-logloss:0.49424\tvalidation_1-logloss:0.494069\n",
      "[3]\tvalidation_0-logloss:0.447993\tvalidation_1-logloss:0.447813\n",
      "[4]\tvalidation_0-logloss:0.408578\tvalidation_1-logloss:0.408397\n",
      "[5]\tvalidation_0-logloss:0.374968\tvalidation_1-logloss:0.374809\n",
      "[6]\tvalidation_0-logloss:0.346033\tvalidation_1-logloss:0.345885\n",
      "[7]\tvalidation_0-logloss:0.320343\tvalidation_1-logloss:0.32023\n",
      "[8]\tvalidation_0-logloss:0.298489\tvalidation_1-logloss:0.298389\n",
      "[9]\tvalidation_0-logloss:0.278992\tvalidation_1-logloss:0.278926\n",
      "[10]\tvalidation_0-logloss:0.261961\tvalidation_1-logloss:0.261923\n",
      "[11]\tvalidation_0-logloss:0.247227\tvalidation_1-logloss:0.247198\n",
      "[12]\tvalidation_0-logloss:0.234016\tvalidation_1-logloss:0.23403\n",
      "[13]\tvalidation_0-logloss:0.222518\tvalidation_1-logloss:0.222522\n",
      "[14]\tvalidation_0-logloss:0.212025\tvalidation_1-logloss:0.212085\n",
      "[15]\tvalidation_0-logloss:0.2027\tvalidation_1-logloss:0.202819\n",
      "[16]\tvalidation_0-logloss:0.19447\tvalidation_1-logloss:0.194647\n",
      "[17]\tvalidation_0-logloss:0.187173\tvalidation_1-logloss:0.187403\n",
      "[18]\tvalidation_0-logloss:0.180716\tvalidation_1-logloss:0.18097\n",
      "[19]\tvalidation_0-logloss:0.174889\tvalidation_1-logloss:0.17517\n",
      "[20]\tvalidation_0-logloss:0.169734\tvalidation_1-logloss:0.170062\n",
      "[21]\tvalidation_0-logloss:0.165091\tvalidation_1-logloss:0.165455\n",
      "[22]\tvalidation_0-logloss:0.160953\tvalidation_1-logloss:0.161362\n",
      "[23]\tvalidation_0-logloss:0.157319\tvalidation_1-logloss:0.157769\n",
      "[24]\tvalidation_0-logloss:0.153954\tvalidation_1-logloss:0.154419\n",
      "[25]\tvalidation_0-logloss:0.151098\tvalidation_1-logloss:0.151582\n",
      "[26]\tvalidation_0-logloss:0.148342\tvalidation_1-logloss:0.148874\n",
      "[27]\tvalidation_0-logloss:0.145578\tvalidation_1-logloss:0.146203\n",
      "[28]\tvalidation_0-logloss:0.143371\tvalidation_1-logloss:0.144023\n",
      "[29]\tvalidation_0-logloss:0.141165\tvalidation_1-logloss:0.141908\n",
      "[30]\tvalidation_0-logloss:0.139236\tvalidation_1-logloss:0.14006\n",
      "[31]\tvalidation_0-logloss:0.137588\tvalidation_1-logloss:0.138397\n",
      "[32]\tvalidation_0-logloss:0.135936\tvalidation_1-logloss:0.1368\n",
      "[33]\tvalidation_0-logloss:0.133354\tvalidation_1-logloss:0.134325\n",
      "[34]\tvalidation_0-logloss:0.131269\tvalidation_1-logloss:0.132308\n",
      "[35]\tvalidation_0-logloss:0.129537\tvalidation_1-logloss:0.130628\n",
      "[36]\tvalidation_0-logloss:0.128043\tvalidation_1-logloss:0.129206\n",
      "[37]\tvalidation_0-logloss:0.126743\tvalidation_1-logloss:0.127985\n",
      "[38]\tvalidation_0-logloss:0.125605\tvalidation_1-logloss:0.126896\n",
      "[39]\tvalidation_0-logloss:0.124607\tvalidation_1-logloss:0.125935\n",
      "[40]\tvalidation_0-logloss:0.12371\tvalidation_1-logloss:0.125056\n",
      "[41]\tvalidation_0-logloss:0.122906\tvalidation_1-logloss:0.124308\n",
      "[42]\tvalidation_0-logloss:0.121675\tvalidation_1-logloss:0.123035\n",
      "[43]\tvalidation_0-logloss:0.120991\tvalidation_1-logloss:0.122351\n",
      "[44]\tvalidation_0-logloss:0.120248\tvalidation_1-logloss:0.121634\n",
      "[45]\tvalidation_0-logloss:0.119658\tvalidation_1-logloss:0.121046\n",
      "[46]\tvalidation_0-logloss:0.119096\tvalidation_1-logloss:0.120504\n",
      "[47]\tvalidation_0-logloss:0.118542\tvalidation_1-logloss:0.119985\n",
      "[48]\tvalidation_0-logloss:0.118079\tvalidation_1-logloss:0.119541\n",
      "[49]\tvalidation_0-logloss:0.117667\tvalidation_1-logloss:0.119127\n",
      "[50]\tvalidation_0-logloss:0.117166\tvalidation_1-logloss:0.118641\n",
      "[51]\tvalidation_0-logloss:0.116811\tvalidation_1-logloss:0.118299\n",
      "[52]\tvalidation_0-logloss:0.116453\tvalidation_1-logloss:0.117942\n",
      "[53]\tvalidation_0-logloss:0.11604\tvalidation_1-logloss:0.117541\n",
      "[54]\tvalidation_0-logloss:0.115723\tvalidation_1-logloss:0.117239\n",
      "[55]\tvalidation_0-logloss:0.115351\tvalidation_1-logloss:0.1169\n",
      "[56]\tvalidation_0-logloss:0.114929\tvalidation_1-logloss:0.116493\n",
      "[57]\tvalidation_0-logloss:0.114666\tvalidation_1-logloss:0.116239\n",
      "[58]\tvalidation_0-logloss:0.11439\tvalidation_1-logloss:0.115967\n",
      "[59]\tvalidation_0-logloss:0.114075\tvalidation_1-logloss:0.115651\n",
      "[60]\tvalidation_0-logloss:0.113668\tvalidation_1-logloss:0.115233\n",
      "[61]\tvalidation_0-logloss:0.113459\tvalidation_1-logloss:0.115036\n",
      "[62]\tvalidation_0-logloss:0.11315\tvalidation_1-logloss:0.114715\n",
      "[63]\tvalidation_0-logloss:0.112892\tvalidation_1-logloss:0.114465\n",
      "[64]\tvalidation_0-logloss:0.112634\tvalidation_1-logloss:0.11421\n",
      "[65]\tvalidation_0-logloss:0.112474\tvalidation_1-logloss:0.114055\n",
      "[66]\tvalidation_0-logloss:0.112304\tvalidation_1-logloss:0.1139\n",
      "[67]\tvalidation_0-logloss:0.112144\tvalidation_1-logloss:0.113744\n",
      "[68]\tvalidation_0-logloss:0.111993\tvalidation_1-logloss:0.113604\n",
      "[69]\tvalidation_0-logloss:0.111787\tvalidation_1-logloss:0.113405\n",
      "[70]\tvalidation_0-logloss:0.111598\tvalidation_1-logloss:0.113221\n",
      "[71]\tvalidation_0-logloss:0.111439\tvalidation_1-logloss:0.113073\n",
      "[72]\tvalidation_0-logloss:0.111192\tvalidation_1-logloss:0.112824\n",
      "[73]\tvalidation_0-logloss:0.111036\tvalidation_1-logloss:0.112691\n",
      "[74]\tvalidation_0-logloss:0.110907\tvalidation_1-logloss:0.112568\n",
      "[75]\tvalidation_0-logloss:0.110694\tvalidation_1-logloss:0.112348\n",
      "[76]\tvalidation_0-logloss:0.110495\tvalidation_1-logloss:0.112153\n",
      "[77]\tvalidation_0-logloss:0.110361\tvalidation_1-logloss:0.112025\n",
      "[78]\tvalidation_0-logloss:0.110161\tvalidation_1-logloss:0.111828\n",
      "[79]\tvalidation_0-logloss:0.109966\tvalidation_1-logloss:0.111635\n",
      "[80]\tvalidation_0-logloss:0.109737\tvalidation_1-logloss:0.111433\n",
      "[81]\tvalidation_0-logloss:0.109584\tvalidation_1-logloss:0.111291\n",
      "[82]\tvalidation_0-logloss:0.109299\tvalidation_1-logloss:0.110998\n",
      "[83]\tvalidation_0-logloss:0.109123\tvalidation_1-logloss:0.110821\n",
      "[84]\tvalidation_0-logloss:0.109005\tvalidation_1-logloss:0.110696\n",
      "[85]\tvalidation_0-logloss:0.108874\tvalidation_1-logloss:0.110577\n",
      "[86]\tvalidation_0-logloss:0.108703\tvalidation_1-logloss:0.110407\n",
      "[87]\tvalidation_0-logloss:0.108638\tvalidation_1-logloss:0.11034\n",
      "[88]\tvalidation_0-logloss:0.108129\tvalidation_1-logloss:0.109797\n",
      "[89]\tvalidation_0-logloss:0.107967\tvalidation_1-logloss:0.109643\n",
      "[90]\tvalidation_0-logloss:0.107776\tvalidation_1-logloss:0.109476\n",
      "[91]\tvalidation_0-logloss:0.10738\tvalidation_1-logloss:0.109065\n",
      "[92]\tvalidation_0-logloss:0.10691\tvalidation_1-logloss:0.108568\n",
      "[93]\tvalidation_0-logloss:0.106782\tvalidation_1-logloss:0.108447\n",
      "[94]\tvalidation_0-logloss:0.106408\tvalidation_1-logloss:0.108052\n",
      "[95]\tvalidation_0-logloss:0.105253\tvalidation_1-logloss:0.106838\n",
      "[96]\tvalidation_0-logloss:0.105036\tvalidation_1-logloss:0.106614\n",
      "[97]\tvalidation_0-logloss:0.104808\tvalidation_1-logloss:0.10639\n",
      "[98]\tvalidation_0-logloss:0.10462\tvalidation_1-logloss:0.106193\n",
      "[99]\tvalidation_0-logloss:0.10442\tvalidation_1-logloss:0.105994\n"
     ]
    },
    {
     "data": {
      "text/plain": [
       "XGBClassifier(base_score=0.5, colsample_bylevel=1, colsample_bytree=1,\n",
       "       gamma=0, learning_rate=0.1, max_delta_step=0, max_depth=3,\n",
       "       min_child_weight=1, missing=None, n_estimators=100, nthread=-1,\n",
       "       objective='binary:logistic', reg_alpha=0, reg_lambda=1,\n",
       "       scale_pos_weight=1, seed=0, silent=True, subsample=1)"
      ]
     },
     "execution_count": 7,
     "metadata": {},
     "output_type": "execute_result"
    }
   ],
   "source": [
    "from xgboost import XGBClassifier\n",
    "param_dist = {'objective':'binary:logistic'\n",
    "             }\n",
    "clf = XGBClassifier(**param_dist)\n",
    "clf.fit(X_train, y_train,\n",
    "        eval_set=[(X_train, y_train), (X_test, y_test)],\n",
    "        eval_metric='logloss',\n",
    "        verbose=True)"
   ]
  },
  {
   "cell_type": "code",
   "execution_count": 9,
   "metadata": {
    "collapsed": true
   },
   "outputs": [],
   "source": [
    "import shelve\n",
    "filename=\"shelve.out\"\n",
    "my_shelf = shelve.open(filename,\"n\") # \"n\" for new\n",
    "\n",
    "my_shelf[\"scaler\"] = globals()[\"scaler\"]\n",
    "my_shelf[\"clf\"] = globals()[\"clf\"]\n",
    " \n",
    "my_shelf.close()"
   ]
  },
  {
   "cell_type": "code",
   "execution_count": null,
   "metadata": {
    "collapsed": true
   },
   "outputs": [],
   "source": []
  },
  {
   "cell_type": "code",
   "execution_count": null,
   "metadata": {
    "collapsed": true
   },
   "outputs": [],
   "source": []
  },
  {
   "cell_type": "code",
   "execution_count": null,
   "metadata": {
    "collapsed": true
   },
   "outputs": [],
   "source": []
  },
  {
   "cell_type": "markdown",
   "metadata": {},
   "source": [
    "# Test data"
   ]
  },
  {
   "cell_type": "code",
   "execution_count": null,
   "metadata": {
    "collapsed": true
   },
   "outputs": [],
   "source": [
    "# load model"
   ]
  },
  {
   "cell_type": "code",
   "execution_count": null,
   "metadata": {
    "collapsed": true
   },
   "outputs": [],
   "source": [
    "import shelve\n",
    "filename=\"shelve.out\"\n",
    "my_shelf = shelve.open(filename)\n",
    " \n",
    "keys = my_shelf.keys()\n",
    " \n",
    "# import all the variables\n",
    "for key in keys:\n",
    "    try:\n",
    "        globals()[key]=my_shelf[key]\n",
    "        print(\"loading:    \" + str(type(my_shelf[key])) + \"\\t\"+ key)\n",
    "    except:\n",
    "        print(\"\")\n",
    "          \n",
    "my_shelf.close()"
   ]
  },
  {
   "cell_type": "code",
   "execution_count": 9,
   "metadata": {},
   "outputs": [],
   "source": [
    "df = pd.read_csv(\"my_test_thin_thin.csv\")\n",
    "y = df[\"msno\"]\n",
    "df.drop(\"msno\",axis=1,inplace=True)\n",
    "df[\"col_diff_last\"] = df[\"date_count_201703\"]-df[\"date_count_201702\"]\n",
    "df[\"col_diff_second_last\"] = df[\"date_count_201702\"]-df[\"date_count_201701\"]\n",
    "df[\"date_diff\"] = 20170401-df[\"max_membership_expire_date\"]\n",
    "df = df[['max_membership_expire_date',\n",
    " 'date_diff',\n",
    " 'is_auto_renew',\n",
    " 'last_is_cancel',\n",
    " 'last_is_auto_renew',\n",
    " 'payment_plan_days',\n",
    " 'trans_count',\n",
    " 'is_cancel',\n",
    " 'col_diff1',\n",
    " 'date_count_201703',\n",
    " 'total_secs_mean_201703',\n",
    " 'num_unq_mean_201703',\n",
    " 'slope',\n",
    " 'registered_via_7',\n",
    " 'num_100_pct_201703',\n",
    " 'total_secs_mean_201702',\n",
    " 'num_25_pct_201703',\n",
    " 'num_50_pct_201703',\n",
    " 'num_985_pct_201703',\n",
    " 'num_75_pct_201703',\n",
    " 'num_unq_mean_201609',\n",
    " 'num_unq_mean_201702',\n",
    " 'num_985_pct_201702',\n",
    " 'num_unq_mean_201701',\n",
    " 'num_25_pct_201702',\n",
    " 'total_secs_mean_201701',\n",
    " 'col_diff_last',\n",
    " 'num_50_pct_201702',\n",
    " 'num_100_pct_201702',\n",
    " 'num_75_pct_201702',\n",
    " 'num_25_pct_201701',\n",
    " 'date_count_201702',\n",
    " 'col_diff２',\n",
    " 'total_secs_mean_201612',\n",
    " 'num_50_pct_201701',\n",
    " 'num_75_pct_201701',\n",
    " 'num_985_pct_201701',\n",
    " 'date_count_201701',\n",
    " 'num_100_pct_201701',\n",
    " 'num_unq_mean_201612',\n",
    " 'num_25_pct_201612',\n",
    " 'num_50_pct_201612',\n",
    " 'num_unq_mean_201611',\n",
    " 'num_25_pct_201611',\n",
    " 'col_diff_second_last',\n",
    " 'total_secs_mean_201610',\n",
    " 'num_100_pct_201609',\n",
    " 'num_985_pct_201612',\n",
    " 'num_unq_mean_201610',\n",
    " 'total_secs_mean_201611']]\n"
   ]
  },
  {
   "cell_type": "code",
   "execution_count": 10,
   "metadata": {
    "collapsed": true
   },
   "outputs": [],
   "source": [
    "X_test_for_real = df.values\n",
    "X_test_for_real = scaler.transform(X_test_for_real)"
   ]
  },
  {
   "cell_type": "code",
   "execution_count": 11,
   "metadata": {
    "collapsed": true
   },
   "outputs": [],
   "source": [
    "ret = clf.predict_proba(X_test_for_real)"
   ]
  },
  {
   "cell_type": "code",
   "execution_count": 22,
   "metadata": {
    "collapsed": true
   },
   "outputs": [],
   "source": [
    "df_ret = pd.DataFrame({\"msno\":y, \"is_churn\":ret[:,1]})\n",
    "df_ret.to_csv(\"ret.csv\",index=False)"
   ]
  },
  {
   "cell_type": "code",
   "execution_count": 23,
   "metadata": {},
   "outputs": [
    {
     "data": {
      "text/plain": [
       "0.9934653559177098"
      ]
     },
     "execution_count": 23,
     "metadata": {},
     "output_type": "execute_result"
    }
   ],
   "source": [
    "df_ret[df_ret.is_churn<0.5].shape[0]/df_ret.shape[0]"
   ]
  },
  {
   "cell_type": "code",
   "execution_count": 25,
   "metadata": {
    "collapsed": true
   },
   "outputs": [],
   "source": [
    "df_ret[\"is_churn\"][df_ret.is_churn < 0.3] = df_ret.is_churn - 0.05"
   ]
  },
  {
   "cell_type": "code",
   "execution_count": 26,
   "metadata": {
    "collapsed": true
   },
   "outputs": [],
   "source": [
    "df_ret[\"is_churn\"][df_ret.is_churn > 0.9] = df_ret.is_churn + 0.02"
   ]
  },
  {
   "cell_type": "code",
   "execution_count": 27,
   "metadata": {
    "collapsed": true
   },
   "outputs": [],
   "source": [
    "df_ret[\"is_churn\"][df_ret.is_churn > 1] = 0.99"
   ]
  },
  {
   "cell_type": "code",
   "execution_count": 28,
   "metadata": {
    "collapsed": true
   },
   "outputs": [],
   "source": [
    "df_ret[\"is_churn\"][df_ret.is_churn < 0 ] = 0.01"
   ]
  },
  {
   "cell_type": "code",
   "execution_count": 29,
   "metadata": {
    "collapsed": true
   },
   "outputs": [],
   "source": [
    "df_ret.to_csv(\"ret1.csv\",index=False)"
   ]
  },
  {
   "cell_type": "code",
   "execution_count": null,
   "metadata": {
    "collapsed": true
   },
   "outputs": [],
   "source": [
    "from keras.models import load_model\n",
    "import pandas as pd\n",
    "model = load_model(\"model.h5\")"
   ]
  },
  {
   "cell_type": "code",
   "execution_count": null,
   "metadata": {
    "collapsed": true
   },
   "outputs": [],
   "source": [
    "# preprocess test set"
   ]
  },
  {
   "cell_type": "code",
   "execution_count": null,
   "metadata": {
    "collapsed": true
   },
   "outputs": [],
   "source": [
    "b"
   ]
  },
  {
   "cell_type": "code",
   "execution_count": null,
   "metadata": {
    "collapsed": true
   },
   "outputs": [],
   "source": [
    "# predict and  save"
   ]
  },
  {
   "cell_type": "code",
   "execution_count": null,
   "metadata": {
    "collapsed": true
   },
   "outputs": [],
   "source": [
    "ret = model.predict(X_test_for_real)\n",
    "df_ret = pd.DataFrame({\"msno\":y, \"is_churn\":ret[:,1].tolist()})\n",
    "df_ret.to_csv(\"ret.csv\",index=False)"
   ]
  },
  {
   "cell_type": "code",
   "execution_count": null,
   "metadata": {
    "collapsed": true
   },
   "outputs": [],
   "source": [
    "df_ret"
   ]
  },
  {
   "cell_type": "code",
   "execution_count": null,
   "metadata": {
    "collapsed": true
   },
   "outputs": [],
   "source": [
    "#96% 0 in the data "
   ]
  }
 ],
 "metadata": {
  "kernelspec": {
   "display_name": "Python 3",
   "language": "python",
   "name": "python3"
  },
  "language_info": {
   "codemirror_mode": {
    "name": "ipython",
    "version": 3
   },
   "file_extension": ".py",
   "mimetype": "text/x-python",
   "name": "python",
   "nbconvert_exporter": "python",
   "pygments_lexer": "ipython3",
   "version": "3.5.2"
  }
 },
 "nbformat": 4,
 "nbformat_minor": 2
}
